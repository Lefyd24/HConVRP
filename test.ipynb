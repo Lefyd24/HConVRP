{
 "cells": [
  {
   "cell_type": "code",
   "execution_count": 27,
   "metadata": {},
   "outputs": [],
   "source": [
    "import os\n",
    "import sys\n",
    "import re"
   ]
  },
  {
   "cell_type": "code",
   "execution_count": 28,
   "metadata": {},
   "outputs": [
    {
     "data": {
      "text/plain": [
       "'darwin'"
      ]
     },
     "execution_count": 28,
     "metadata": {},
     "output_type": "execute_result"
    }
   ],
   "source": [
    "sys.platform"
   ]
  },
  {
   "cell_type": "code",
   "execution_count": 19,
   "metadata": {},
   "outputs": [
    {
     "name": "stdout",
     "output_type": "stream",
     "text": [
      "The current operating system is: macOS\n"
     ]
    }
   ],
   "source": [
    "def check_os():\n",
    "    if os.name == 'posix':\n",
    "        return \"macOS\"\n",
    "    elif os.name == 'nt':\n",
    "        return \"Windows\"\n",
    "    else:\n",
    "        return \"Unknown OS\"\n",
    "\n",
    "# Example usage\n",
    "current_os = check_os()\n",
    "print(f\"The current operating system is: {current_os}\")"
   ]
  },
  {
   "cell_type": "code",
   "execution_count": 4,
   "metadata": {},
   "outputs": [],
   "source": [
    "def safe_text(text:str):\n",
    "    text = text.replace(\"\\n\", \" \")\n",
    "    text = text.replace(\"\\r\", \" \")\n",
    "    text = re.sub(r'[\\\\/*?:\"<>|]', \"\", text)\n",
    "    text = text.replace(\"%\", \"\")\n",
    "    text = text.replace(\":\", \"\")\n",
    "    text= text.replace(\".yml\", \"\")\n",
    "    return text"
   ]
  },
  {
   "cell_type": "code",
   "execution_count": 18,
   "metadata": {},
   "outputs": [
    {
     "name": "stdout",
     "output_type": "stream",
     "text": [
      "Medium15\n"
     ]
    }
   ],
   "source": [
    "path = \"/Users/lefterisfthenos/Desktop/MSBA - AUEB/Thesis/HConVRP_Thesis/WebApp/datasets/Medium/15%/b1.yml\"\n",
    "\n",
    "def get_dir_name(path:str):\n",
    "    if sys.platform in ('linux', 'darwin'):\n",
    "        path = path.split(\"datasets\")[1]\n",
    "        path = path.split(\"/\")[:-1]\n",
    "        path = \"/\".join(path)\n",
    "        return safe_text(path)\n",
    "    else:\n",
    "        path = path.split(\"/\")[-1]\n",
    "        return safe_text(path)\n",
    "# we want to keep all the dir names after \"datasets\" and before the file name\n",
    "\n",
    "path = path.split(\"datasets\")[1]\n",
    "path = path.split(\"/\")[:-1]\n",
    "\n",
    "path = \"/\".join(path)\n",
    "print(safe_text(path))\n"
   ]
  }
 ],
 "metadata": {
  "kernelspec": {
   "display_name": ".venv_linux",
   "language": "python",
   "name": "python3"
  },
  "language_info": {
   "codemirror_mode": {
    "name": "ipython",
    "version": 3
   },
   "file_extension": ".py",
   "mimetype": "text/x-python",
   "name": "python",
   "nbconvert_exporter": "python",
   "pygments_lexer": "ipython3",
   "version": "3.12.2"
  }
 },
 "nbformat": 4,
 "nbformat_minor": 2
}
