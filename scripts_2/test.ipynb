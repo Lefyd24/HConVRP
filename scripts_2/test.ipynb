{
 "cells": [
  {
   "cell_type": "code",
   "execution_count": 4,
   "metadata": {},
   "outputs": [
    {
     "name": "stdout",
     "output_type": "stream",
     "text": [
      "Number of customers: \u001b[32m50\u001b[0m\n",
      "Number of vehicle types: \u001b[32m3\u001b[0m\n",
      "Number of vehicles: \u001b[32m4\u001b[0m\n",
      "Planning horizon: \u001b[33m5\u001b[0m\n",
      "Route duration: \u001b[33m240\u001b[0m\n",
      "--------------------------------------------------\n"
     ]
    }
   ],
   "source": [
    "from copy import deepcopy\n",
    "import random\n",
    "from models import *\n",
    "import yaml\n",
    "import os\n",
    "import numpy as np\n",
    "import datetime as dt\n",
    "import time\n",
    "import pandas as pd\n",
    "from helpers import colorize, create_node_matrix\n",
    "from warnings import filterwarnings\n",
    "\n",
    "filterwarnings('ignore')\n",
    "\n",
    "data_filename = \"HConVRPDatasets_YML/Medium/15%/b1.yml\" \n",
    "\n",
    "data = yaml.load(open(data_filename), Loader=yaml.FullLoader)\n",
    "\n",
    "depot = Customer(0, tuple(data[\"Depot_coordinates\"]), [0]*data[\"Planning_Horizon\"], data[\"Planning_Horizon\"])\n",
    "\n",
    "def initialize_customers(data, planning_horizon):\n",
    "    customers = []\n",
    "    for idx, coordinates in enumerate(data[\"Customer_coordinates\"]):\n",
    "        coordinates = tuple(coordinates)\n",
    "        demands = data[\"Customer_demands\"][idx]\n",
    "        new_cust = Customer(idx + 1, coordinates, demands, planning_horizon)\n",
    "        customers.append(new_cust)\n",
    "    return customers\n",
    "\n",
    "def initialize_vehicle_types(data):\n",
    "    vehicle_types = []\n",
    "    for idx, vehicle_type in enumerate(data[\"Vehicle_Types\"]):\n",
    "        vehicle_type_name = vehicle_type[\"Vehicle_Type\"]\n",
    "        capacity = vehicle_type[\"Capacity\"]\n",
    "        fixed_cost = vehicle_type[\"Fixed_Cost\"]\n",
    "        variable_cost = vehicle_type[\"Variable_Cost\"]\n",
    "        speed = vehicle_type[\"Speed\"]\n",
    "        available_vehicles = vehicle_type[\"Number_of_available_vehicles\"]\n",
    "        new_v_type = VehicleType(vehicle_type_name, available_vehicles, capacity, fixed_cost, variable_cost, speed)\n",
    "        vehicle_types.append(new_v_type)\n",
    "    return vehicle_types\n",
    "\n",
    "def initialize_vehicles(data, vehicle_types, customers, distance_matrix):\n",
    "    compatability_matrix = data[\"Compatibility_Restrictions\"]\n",
    "    compatability_matrix = np.array(compatability_matrix)\n",
    "\n",
    "    planning_horizon = data[\"Planning_Horizon\"]\n",
    "    route_duration = data[\"Route_Duration\"]\n",
    "\n",
    "    vehicles = []\n",
    "    for vehicle_type in vehicle_types:\n",
    "        for idx in range(vehicle_type.available_vehicles):\n",
    "            compatible_customers = []\n",
    "            incompatible_customers = []\n",
    "            if compatability_matrix.size > 0:\n",
    "                for customer in customers:\n",
    "                    if compatability_matrix[customer.id - 1][len(vehicles) + 1] == 1:\n",
    "                        compatible_customers.append(customer)\n",
    "                    else:\n",
    "                        incompatible_customers.append(customer)\n",
    "            else:\n",
    "                compatible_customers = customers\n",
    "\n",
    "            new_vehicle = Vehicle(len(vehicles) + 1, vehicle_type, depot,\n",
    "                                  planning_horizon, route_duration, distance_matrix,\n",
    "                                  compatible_customers, incompatible_customers)\n",
    "            vehicles.append(new_vehicle)\n",
    "    return vehicles\n",
    "\n",
    "planning_horizon = data[\"Planning_Horizon\"]\n",
    "route_duration = data[\"Route_Duration\"]\n",
    "\n",
    "customers = initialize_customers(data, planning_horizon)\n",
    "vehicle_types = initialize_vehicle_types(data)\n",
    "distance_matrix = create_node_matrix(customers, depot, type_matrix=\"distance\")\n",
    "\n",
    "vehicles = initialize_vehicles(data, vehicle_types, customers, distance_matrix)\n",
    "\n",
    "print(\"Number of customers:\", colorize(len(customers), 'GREEN'))\n",
    "print(\"Number of vehicle types:\", colorize(len(vehicle_types), 'GREEN'))\n",
    "print(\"Number of vehicles:\", colorize(len(vehicles), 'GREEN'))\n",
    "print(\"Planning horizon:\", colorize(planning_horizon, 'YELLOW'))\n",
    "print(\"Route duration:\", colorize(route_duration, 'YELLOW'))\n",
    "print(\"-\"*50)"
   ]
  },
  {
   "cell_type": "code",
   "execution_count": 8,
   "metadata": {},
   "outputs": [
    {
     "data": {
      "text/plain": [
       "False"
      ]
     },
     "execution_count": 8,
     "metadata": {},
     "output_type": "execute_result"
    }
   ],
   "source": [
    "customers[0] in vehicles[1].compatible_customers"
   ]
  },
  {
   "cell_type": "code",
   "execution_count": null,
   "metadata": {},
   "outputs": [],
   "source": []
  }
 ],
 "metadata": {
  "kernelspec": {
   "display_name": ".venv",
   "language": "python",
   "name": "python3"
  },
  "language_info": {
   "codemirror_mode": {
    "name": "ipython",
    "version": 3
   },
   "file_extension": ".py",
   "mimetype": "text/x-python",
   "name": "python",
   "nbconvert_exporter": "python",
   "pygments_lexer": "ipython3",
   "version": "3.11.6"
  }
 },
 "nbformat": 4,
 "nbformat_minor": 2
}
